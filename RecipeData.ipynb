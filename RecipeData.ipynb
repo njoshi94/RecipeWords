{
  "nbformat": 4,
  "nbformat_minor": 0,
  "metadata": {
    "colab": {
      "name": "RecipeData.ipynb",
      "provenance": [],
      "collapsed_sections": [],
      "toc_visible": true,
      "authorship_tag": "ABX9TyPjXOFj6XvxnVYDrXOq/xLf",
      "include_colab_link": true
    },
    "kernelspec": {
      "name": "python3",
      "display_name": "Python 3"
    },
    "accelerator": "GPU"
  },
  "cells": [
    {
      "cell_type": "markdown",
      "metadata": {
        "id": "view-in-github",
        "colab_type": "text"
      },
      "source": [
        "<a href=\"https://colab.research.google.com/github/njoshi94/RecipeWords/blob/master/RecipeData.ipynb\" target=\"_parent\"><img src=\"https://colab.research.google.com/assets/colab-badge.svg\" alt=\"Open In Colab\"/></a>"
      ]
    },
    {
      "cell_type": "markdown",
      "metadata": {
        "id": "jUSxsfuXVA6e",
        "colab_type": "text"
      },
      "source": [
        "# **Introduction**\n",
        "After becoming vegan, gluten free, and refined sugar free, I started reading a lot of online recipes and noticed very long, and mostly irrelevant, introductions. Several friends who were vegan, told me that vegan recipes always have long introductions, and I wanted to see if there was a relationship between dietary restrictions ('None', 'Gluten Free', 'Vegan', 'Refined Sugar Free') and percentage of recipes dedicated to introductions as well as total words of articles. \n",
        "\n",
        "# Hypothesis:\n",
        "\n",
        "The more dietary restrictions a recipe has, the longer the introduction and total word count will be.\n",
        "\n",
        "# Data Collection:\n",
        "To maintain consistency, I searched for 30 recipes and would search with no additional criteria, 'Gluten Free', 'Vegan', or 'Refined Sugar Free'. To avoid natural bias, I chose the recipes by working through this list: https://www.foodnetwork.com/recipes/photos/foodnetwork-top-50-most-saved-recipes.\n",
        "\n",
        "After entering the search criteria, I would click on the first usable website. Certain websites remove all introductions by default, and I excluded these for obvious reasons. I then calculated the amount of words for the introduction, the total amount of words (Introduction + Recipe) and calculated the percentage of the recipe dedicated to the introduction. \n",
        "\n",
        "Dietary restrictions were determined by the creators of each recipe, and recipes could have multiple tags. \n",
        "\n",
        "When collecting data, I excluded counting words for the following categories:\n",
        "\n",
        "*   Substitutions / instructions for cooking methods - I felt like these belonged in a third category, and since not every article included them, I avoided them for consistency \n",
        "*   Author Introductions - certain websites include these by default, and others did not, so it did not feel fair to include them\n",
        "* Disclaimers - things like mentioning the article has affiliate links were not counted \n",
        "\n"
      ]
    },
    {
      "cell_type": "markdown",
      "metadata": {
        "id": "PbK1UyYUZyzX",
        "colab_type": "text"
      },
      "source": [
        "Note- The Pip installs are only needed in the following scenario:\n",
        "\n",
        "*   TensorFlow version is 2.2.0\n",
        "*   The runtime type is GPU \n",
        "\n"
      ]
    },
    {
      "cell_type": "code",
      "metadata": {
        "id": "YFXxG6DyvPHg",
        "colab_type": "code",
        "outputId": "e3da7b8e-0f28-4279-cb9c-9b163af693c8",
        "colab": {
          "base_uri": "https://localhost:8080/",
          "height": 35
        }
      },
      "source": [
        "#!pip install tensorflow-gpu \n",
        "#!pip install tf-nightly\n",
        "import tensorflow as tf\n",
        "tf.__version__"
      ],
      "execution_count": 0,
      "outputs": [
        {
          "output_type": "execute_result",
          "data": {
            "text/plain": [
              "'2.2.0'"
            ]
          },
          "metadata": {
            "tags": []
          },
          "execution_count": 1
        }
      ]
    },
    {
      "cell_type": "code",
      "metadata": {
        "id": "8ueYMW2cvb7n",
        "colab_type": "code",
        "colab": {}
      },
      "source": [
        "#Importing all relevant libraries \n",
        "import pandas as pd \n",
        "import numpy as np\n",
        "from tensorflow.keras import Sequential \n",
        "from tensorflow.keras.layers import Flatten, Dense, Dropout, BatchNormalization\n",
        "from tensorflow.keras.layers import Conv1D, MaxPool1D\n",
        "from tensorflow.keras.optimizers import Adam \n",
        "from sklearn.model_selection import train_test_split\n",
        "import matplotlib.pyplot as plt "
      ],
      "execution_count": 0,
      "outputs": []
    },
    {
      "cell_type": "markdown",
      "metadata": {
        "id": "WzkH3TgFah_P",
        "colab_type": "text"
      },
      "source": [
        "For the below section, 'RecipesData.xlsx' needs to be uploaded. \n",
        "\n",
        "The document can be found here: www.github.com/njoshi94/RecipeWords"
      ]
    },
    {
      "cell_type": "code",
      "metadata": {
        "id": "r053v9BSvqFO",
        "colab_type": "code",
        "colab": {}
      },
      "source": [
        "\n",
        "#Importing Data \n",
        "filename = 'RecipesData.xlsx'\n",
        "df = pd.read_excel(filename)\n",
        "\n",
        "#Splitting the different restrictions into a list \n",
        "df['Restrictions'] = df['Restrictions'].str.split(', ')\n",
        "\n",
        "#Splitting the data into test and training \n",
        "X = df.drop(['Food', 'Url', 'Recipe', 'Extra Words',\n",
        "             'Restrictions', 'None', 'Gluten Free', 'Vegan', 'Refined Sugar Free'], axis = 1)\n",
        "y = df.drop(['Food', 'Url', 'Recipe', 'Total Words', 'Extra Words', 'Percent', \n",
        "             'Restrictions'], axis = 1)\n",
        "\n",
        "X = X.to_numpy()\n",
        "X = X[...,np.newaxis]\n",
        "y = y.to_numpy()\n",
        "\n",
        "#test_size split to have 100 test and 20 train values \n",
        "X_train, X_test, y_train, y_test = train_test_split(X, y, test_size = 1/6, random_state = 0)"
      ],
      "execution_count": 0,
      "outputs": []
    },
    {
      "cell_type": "code",
      "metadata": {
        "id": "njsSFSrGfZvu",
        "colab_type": "code",
        "outputId": "ac20530c-9f4e-40f5-a737-aada2990d3b2",
        "colab": {
          "base_uri": "https://localhost:8080/",
          "height": 35
        }
      },
      "source": [
        "X_train.shape"
      ],
      "execution_count": 0,
      "outputs": [
        {
          "output_type": "execute_result",
          "data": {
            "text/plain": [
              "(100, 2, 1)"
            ]
          },
          "metadata": {
            "tags": []
          },
          "execution_count": 7
        }
      ]
    },
    {
      "cell_type": "code",
      "metadata": {
        "id": "2OzLJuT7fc5u",
        "colab_type": "code",
        "outputId": "820630ea-094b-4128-f6c5-ecf77bfb9148",
        "colab": {
          "base_uri": "https://localhost:8080/",
          "height": 35
        }
      },
      "source": [
        "y_train.shape"
      ],
      "execution_count": 0,
      "outputs": [
        {
          "output_type": "execute_result",
          "data": {
            "text/plain": [
              "(100, 4)"
            ]
          },
          "metadata": {
            "tags": []
          },
          "execution_count": 8
        }
      ]
    },
    {
      "cell_type": "code",
      "metadata": {
        "id": "htQBmxdEv5Dj",
        "colab_type": "code",
        "outputId": "d9df28d6-0893-4077-a35a-f888d070372b",
        "colab": {
          "base_uri": "https://localhost:8080/",
          "height": 935
        }
      },
      "source": [
        "\n",
        "#Bulding the Model\n",
        "#Creating the first layer \n",
        "model = Sequential()\n",
        "model.add(Conv1D(8,1, activation = 'relu', input_shape = X_train[0].shape  ))\n",
        "model.add(BatchNormalization())\n",
        "model.add(MaxPool1D())\n",
        "model.add(Dropout(0.4))\n",
        "\n",
        "#Adding second layer\n",
        "model.add(Conv1D(16, 1, activation = 'relu'))\n",
        "model.add(BatchNormalization())\n",
        "model.add(Dropout(0.4))\n",
        "\n",
        "#Adding third layer\n",
        "model.add(Conv1D(32, 1, activation = 'relu'))\n",
        "model.add(BatchNormalization())\n",
        "model.add(Dropout(0.4))\n",
        "\n",
        "#Adding fourth layer\n",
        "model.add(Conv1D(64, 1, activation = 'relu'))\n",
        "model.add(BatchNormalization())\n",
        "model.add(Dropout(0.4))\n",
        "\n",
        "model.add(Flatten())\n",
        "\n",
        "model.add(Dense(64, activation = 'relu'))\n",
        "model.add(BatchNormalization())\n",
        "model.add(Dropout(0.5))\n",
        "\n",
        "model.add(Dense(64, activation = 'relu'))\n",
        "model.add(BatchNormalization())\n",
        "model.add(Dropout(0.5))\n",
        "\n",
        "model.add(Dense(4, activation = 'sigmoid'))\n",
        "\n",
        "model.summary() \n"
      ],
      "execution_count": 0,
      "outputs": [
        {
          "output_type": "stream",
          "text": [
            "Model: \"sequential\"\n",
            "_________________________________________________________________\n",
            "Layer (type)                 Output Shape              Param #   \n",
            "=================================================================\n",
            "conv1d (Conv1D)              (None, 2, 8)              16        \n",
            "_________________________________________________________________\n",
            "batch_normalization (BatchNo (None, 2, 8)              32        \n",
            "_________________________________________________________________\n",
            "max_pooling1d (MaxPooling1D) (None, 1, 8)              0         \n",
            "_________________________________________________________________\n",
            "dropout (Dropout)            (None, 1, 8)              0         \n",
            "_________________________________________________________________\n",
            "conv1d_1 (Conv1D)            (None, 1, 16)             144       \n",
            "_________________________________________________________________\n",
            "batch_normalization_1 (Batch (None, 1, 16)             64        \n",
            "_________________________________________________________________\n",
            "dropout_1 (Dropout)          (None, 1, 16)             0         \n",
            "_________________________________________________________________\n",
            "conv1d_2 (Conv1D)            (None, 1, 32)             544       \n",
            "_________________________________________________________________\n",
            "batch_normalization_2 (Batch (None, 1, 32)             128       \n",
            "_________________________________________________________________\n",
            "dropout_2 (Dropout)          (None, 1, 32)             0         \n",
            "_________________________________________________________________\n",
            "conv1d_3 (Conv1D)            (None, 1, 64)             2112      \n",
            "_________________________________________________________________\n",
            "batch_normalization_3 (Batch (None, 1, 64)             256       \n",
            "_________________________________________________________________\n",
            "dropout_3 (Dropout)          (None, 1, 64)             0         \n",
            "_________________________________________________________________\n",
            "flatten (Flatten)            (None, 64)                0         \n",
            "_________________________________________________________________\n",
            "dense (Dense)                (None, 64)                4160      \n",
            "_________________________________________________________________\n",
            "batch_normalization_4 (Batch (None, 64)                256       \n",
            "_________________________________________________________________\n",
            "dropout_4 (Dropout)          (None, 64)                0         \n",
            "_________________________________________________________________\n",
            "dense_1 (Dense)              (None, 64)                4160      \n",
            "_________________________________________________________________\n",
            "batch_normalization_5 (Batch (None, 64)                256       \n",
            "_________________________________________________________________\n",
            "dropout_5 (Dropout)          (None, 64)                0         \n",
            "_________________________________________________________________\n",
            "dense_2 (Dense)              (None, 4)                 260       \n",
            "=================================================================\n",
            "Total params: 12,388\n",
            "Trainable params: 11,892\n",
            "Non-trainable params: 496\n",
            "_________________________________________________________________\n"
          ],
          "name": "stdout"
        }
      ]
    },
    {
      "cell_type": "code",
      "metadata": {
        "id": "_ZAdpmTgbAuY",
        "colab_type": "code",
        "outputId": "54ffb8fc-1f9e-46b1-c3b5-517ebd019254",
        "colab": {
          "base_uri": "https://localhost:8080/",
          "height": 1000
        }
      },
      "source": [
        "#Compiling and running the model \n",
        "model.compile(optimizer = 'adam', loss = 'binary_crossentropy', metrics = ['accuracy'])\n",
        "\n",
        "history = model.fit(X_train, y_train, epochs = 100, batch_size = 5, validation_data = (X_test, y_test), verbose = 1)"
      ],
      "execution_count": 0,
      "outputs": [
        {
          "output_type": "stream",
          "text": [
            "Epoch 1/100\n",
            "20/20 [==============================] - 0s 20ms/step - loss: 0.9570 - accuracy: 0.2500 - val_loss: 0.6736 - val_accuracy: 0.2500\n",
            "Epoch 2/100\n",
            "20/20 [==============================] - 0s 6ms/step - loss: 1.0354 - accuracy: 0.2000 - val_loss: 0.6747 - val_accuracy: 0.1500\n",
            "Epoch 3/100\n",
            "20/20 [==============================] - 0s 6ms/step - loss: 0.9463 - accuracy: 0.2500 - val_loss: 0.6756 - val_accuracy: 0.1500\n",
            "Epoch 4/100\n",
            "20/20 [==============================] - 0s 6ms/step - loss: 0.9429 - accuracy: 0.2800 - val_loss: 0.6711 - val_accuracy: 0.1500\n",
            "Epoch 5/100\n",
            "20/20 [==============================] - 0s 7ms/step - loss: 0.8682 - accuracy: 0.2800 - val_loss: 0.6677 - val_accuracy: 0.1500\n",
            "Epoch 6/100\n",
            "20/20 [==============================] - 0s 7ms/step - loss: 0.9426 - accuracy: 0.2000 - val_loss: 0.6631 - val_accuracy: 0.1500\n",
            "Epoch 7/100\n",
            "20/20 [==============================] - 0s 7ms/step - loss: 0.8737 - accuracy: 0.2900 - val_loss: 0.6552 - val_accuracy: 0.1500\n",
            "Epoch 8/100\n",
            "20/20 [==============================] - 0s 6ms/step - loss: 0.9415 - accuracy: 0.2100 - val_loss: 0.6547 - val_accuracy: 0.1500\n",
            "Epoch 9/100\n",
            "20/20 [==============================] - 0s 6ms/step - loss: 0.8423 - accuracy: 0.3500 - val_loss: 0.6530 - val_accuracy: 0.1500\n",
            "Epoch 10/100\n",
            "20/20 [==============================] - 0s 6ms/step - loss: 0.8840 - accuracy: 0.2400 - val_loss: 0.6522 - val_accuracy: 0.1500\n",
            "Epoch 11/100\n",
            "20/20 [==============================] - 0s 6ms/step - loss: 0.8882 - accuracy: 0.2400 - val_loss: 0.6466 - val_accuracy: 0.1500\n",
            "Epoch 12/100\n",
            "20/20 [==============================] - 0s 6ms/step - loss: 0.7931 - accuracy: 0.3400 - val_loss: 0.6454 - val_accuracy: 0.2000\n",
            "Epoch 13/100\n",
            "20/20 [==============================] - 0s 6ms/step - loss: 0.8477 - accuracy: 0.2600 - val_loss: 0.6401 - val_accuracy: 0.2500\n",
            "Epoch 14/100\n",
            "20/20 [==============================] - 0s 7ms/step - loss: 0.8379 - accuracy: 0.2500 - val_loss: 0.6413 - val_accuracy: 0.2500\n",
            "Epoch 15/100\n",
            "20/20 [==============================] - 0s 6ms/step - loss: 0.8171 - accuracy: 0.3100 - val_loss: 0.6376 - val_accuracy: 0.2500\n",
            "Epoch 16/100\n",
            "20/20 [==============================] - 0s 6ms/step - loss: 0.8048 - accuracy: 0.3000 - val_loss: 0.6352 - val_accuracy: 0.1000\n",
            "Epoch 17/100\n",
            "20/20 [==============================] - 0s 6ms/step - loss: 0.7947 - accuracy: 0.2700 - val_loss: 0.6299 - val_accuracy: 0.1000\n",
            "Epoch 18/100\n",
            "20/20 [==============================] - 0s 7ms/step - loss: 0.8324 - accuracy: 0.1600 - val_loss: 0.6261 - val_accuracy: 0.1000\n",
            "Epoch 19/100\n",
            "20/20 [==============================] - 0s 6ms/step - loss: 0.7166 - accuracy: 0.2800 - val_loss: 0.6278 - val_accuracy: 0.1000\n",
            "Epoch 20/100\n",
            "20/20 [==============================] - 0s 7ms/step - loss: 0.7225 - accuracy: 0.3100 - val_loss: 0.6254 - val_accuracy: 0.1000\n",
            "Epoch 21/100\n",
            "20/20 [==============================] - 0s 7ms/step - loss: 0.7740 - accuracy: 0.2600 - val_loss: 0.6279 - val_accuracy: 0.1000\n",
            "Epoch 22/100\n",
            "20/20 [==============================] - 0s 6ms/step - loss: 0.7576 - accuracy: 0.3100 - val_loss: 0.6266 - val_accuracy: 0.1000\n",
            "Epoch 23/100\n",
            "20/20 [==============================] - 0s 6ms/step - loss: 0.7524 - accuracy: 0.2500 - val_loss: 0.6251 - val_accuracy: 0.1500\n",
            "Epoch 24/100\n",
            "20/20 [==============================] - 0s 6ms/step - loss: 0.7281 - accuracy: 0.2500 - val_loss: 0.6246 - val_accuracy: 0.2000\n",
            "Epoch 25/100\n",
            "20/20 [==============================] - 0s 6ms/step - loss: 0.7459 - accuracy: 0.3500 - val_loss: 0.6271 - val_accuracy: 0.2000\n",
            "Epoch 26/100\n",
            "20/20 [==============================] - 0s 6ms/step - loss: 0.7310 - accuracy: 0.2000 - val_loss: 0.6287 - val_accuracy: 0.2000\n",
            "Epoch 27/100\n",
            "20/20 [==============================] - 0s 6ms/step - loss: 0.7427 - accuracy: 0.3200 - val_loss: 0.6313 - val_accuracy: 0.2000\n",
            "Epoch 28/100\n",
            "20/20 [==============================] - 0s 6ms/step - loss: 0.6912 - accuracy: 0.2500 - val_loss: 0.6419 - val_accuracy: 0.2500\n",
            "Epoch 29/100\n",
            "20/20 [==============================] - 0s 7ms/step - loss: 0.7428 - accuracy: 0.2200 - val_loss: 0.6458 - val_accuracy: 0.2500\n",
            "Epoch 30/100\n",
            "20/20 [==============================] - 0s 7ms/step - loss: 0.7050 - accuracy: 0.3000 - val_loss: 0.6452 - val_accuracy: 0.2500\n",
            "Epoch 31/100\n",
            "20/20 [==============================] - 0s 6ms/step - loss: 0.6873 - accuracy: 0.3100 - val_loss: 0.6457 - val_accuracy: 0.2500\n",
            "Epoch 32/100\n",
            "20/20 [==============================] - 0s 6ms/step - loss: 0.6847 - accuracy: 0.3800 - val_loss: 0.6354 - val_accuracy: 0.2500\n",
            "Epoch 33/100\n",
            "20/20 [==============================] - 0s 6ms/step - loss: 0.7043 - accuracy: 0.3600 - val_loss: 0.6326 - val_accuracy: 0.3000\n",
            "Epoch 34/100\n",
            "20/20 [==============================] - 0s 6ms/step - loss: 0.6767 - accuracy: 0.3100 - val_loss: 0.6342 - val_accuracy: 0.2500\n",
            "Epoch 35/100\n",
            "20/20 [==============================] - 0s 7ms/step - loss: 0.6821 - accuracy: 0.2800 - val_loss: 0.6359 - val_accuracy: 0.2500\n",
            "Epoch 36/100\n",
            "20/20 [==============================] - 0s 7ms/step - loss: 0.6968 - accuracy: 0.2800 - val_loss: 0.6371 - val_accuracy: 0.2500\n",
            "Epoch 37/100\n",
            "20/20 [==============================] - 0s 7ms/step - loss: 0.6627 - accuracy: 0.3500 - val_loss: 0.6357 - val_accuracy: 0.2500\n",
            "Epoch 38/100\n",
            "20/20 [==============================] - 0s 6ms/step - loss: 0.6837 - accuracy: 0.2500 - val_loss: 0.6342 - val_accuracy: 0.3000\n",
            "Epoch 39/100\n",
            "20/20 [==============================] - 0s 6ms/step - loss: 0.6400 - accuracy: 0.3300 - val_loss: 0.6332 - val_accuracy: 0.2500\n",
            "Epoch 40/100\n",
            "20/20 [==============================] - 0s 6ms/step - loss: 0.6891 - accuracy: 0.3300 - val_loss: 0.6365 - val_accuracy: 0.3500\n",
            "Epoch 41/100\n",
            "20/20 [==============================] - 0s 6ms/step - loss: 0.6435 - accuracy: 0.3600 - val_loss: 0.6343 - val_accuracy: 0.4000\n",
            "Epoch 42/100\n",
            "20/20 [==============================] - 0s 6ms/step - loss: 0.6902 - accuracy: 0.3200 - val_loss: 0.6399 - val_accuracy: 0.2500\n",
            "Epoch 43/100\n",
            "20/20 [==============================] - 0s 6ms/step - loss: 0.7185 - accuracy: 0.2700 - val_loss: 0.6411 - val_accuracy: 0.1500\n",
            "Epoch 44/100\n",
            "20/20 [==============================] - 0s 7ms/step - loss: 0.6637 - accuracy: 0.3000 - val_loss: 0.6391 - val_accuracy: 0.1500\n",
            "Epoch 45/100\n",
            "20/20 [==============================] - 0s 6ms/step - loss: 0.6824 - accuracy: 0.2900 - val_loss: 0.6357 - val_accuracy: 0.2500\n",
            "Epoch 46/100\n",
            "20/20 [==============================] - 0s 6ms/step - loss: 0.6962 - accuracy: 0.3200 - val_loss: 0.6376 - val_accuracy: 0.3500\n",
            "Epoch 47/100\n",
            "20/20 [==============================] - 0s 6ms/step - loss: 0.6736 - accuracy: 0.2800 - val_loss: 0.6348 - val_accuracy: 0.4000\n",
            "Epoch 48/100\n",
            "20/20 [==============================] - 0s 6ms/step - loss: 0.6779 - accuracy: 0.3000 - val_loss: 0.6359 - val_accuracy: 0.4000\n",
            "Epoch 49/100\n",
            "20/20 [==============================] - 0s 6ms/step - loss: 0.6855 - accuracy: 0.2800 - val_loss: 0.6356 - val_accuracy: 0.3500\n",
            "Epoch 50/100\n",
            "20/20 [==============================] - 0s 6ms/step - loss: 0.6819 - accuracy: 0.3200 - val_loss: 0.6356 - val_accuracy: 0.4000\n",
            "Epoch 51/100\n",
            "20/20 [==============================] - 0s 6ms/step - loss: 0.6367 - accuracy: 0.4000 - val_loss: 0.6345 - val_accuracy: 0.4000\n",
            "Epoch 52/100\n",
            "20/20 [==============================] - 0s 6ms/step - loss: 0.6424 - accuracy: 0.3500 - val_loss: 0.6352 - val_accuracy: 0.4000\n",
            "Epoch 53/100\n",
            "20/20 [==============================] - 0s 6ms/step - loss: 0.6480 - accuracy: 0.2800 - val_loss: 0.6355 - val_accuracy: 0.4000\n",
            "Epoch 54/100\n",
            "20/20 [==============================] - 0s 7ms/step - loss: 0.6649 - accuracy: 0.3300 - val_loss: 0.6344 - val_accuracy: 0.4000\n",
            "Epoch 55/100\n",
            "20/20 [==============================] - 0s 6ms/step - loss: 0.6886 - accuracy: 0.2600 - val_loss: 0.6319 - val_accuracy: 0.4000\n",
            "Epoch 56/100\n",
            "20/20 [==============================] - 0s 6ms/step - loss: 0.6593 - accuracy: 0.3600 - val_loss: 0.6306 - val_accuracy: 0.4000\n",
            "Epoch 57/100\n",
            "20/20 [==============================] - 0s 6ms/step - loss: 0.6505 - accuracy: 0.3200 - val_loss: 0.6286 - val_accuracy: 0.4000\n",
            "Epoch 58/100\n",
            "20/20 [==============================] - 0s 6ms/step - loss: 0.6336 - accuracy: 0.4300 - val_loss: 0.6283 - val_accuracy: 0.4000\n",
            "Epoch 59/100\n",
            "20/20 [==============================] - 0s 7ms/step - loss: 0.6638 - accuracy: 0.3100 - val_loss: 0.6310 - val_accuracy: 0.4000\n",
            "Epoch 60/100\n",
            "20/20 [==============================] - 0s 7ms/step - loss: 0.6389 - accuracy: 0.3100 - val_loss: 0.6291 - val_accuracy: 0.4000\n",
            "Epoch 61/100\n",
            "20/20 [==============================] - 0s 6ms/step - loss: 0.6471 - accuracy: 0.2900 - val_loss: 0.6331 - val_accuracy: 0.4500\n",
            "Epoch 62/100\n",
            "20/20 [==============================] - 0s 7ms/step - loss: 0.6449 - accuracy: 0.3200 - val_loss: 0.6342 - val_accuracy: 0.4500\n",
            "Epoch 63/100\n",
            "20/20 [==============================] - 0s 6ms/step - loss: 0.6709 - accuracy: 0.3200 - val_loss: 0.6324 - val_accuracy: 0.4500\n",
            "Epoch 64/100\n",
            "20/20 [==============================] - 0s 6ms/step - loss: 0.6526 - accuracy: 0.3100 - val_loss: 0.6328 - val_accuracy: 0.4000\n",
            "Epoch 65/100\n",
            "20/20 [==============================] - 0s 7ms/step - loss: 0.6409 - accuracy: 0.3100 - val_loss: 0.6362 - val_accuracy: 0.4000\n",
            "Epoch 66/100\n",
            "20/20 [==============================] - 0s 7ms/step - loss: 0.6675 - accuracy: 0.2800 - val_loss: 0.6417 - val_accuracy: 0.4000\n",
            "Epoch 67/100\n",
            "20/20 [==============================] - 0s 6ms/step - loss: 0.6469 - accuracy: 0.3700 - val_loss: 0.6439 - val_accuracy: 0.4000\n",
            "Epoch 68/100\n",
            "20/20 [==============================] - 0s 6ms/step - loss: 0.6468 - accuracy: 0.3300 - val_loss: 0.6430 - val_accuracy: 0.4000\n",
            "Epoch 69/100\n",
            "20/20 [==============================] - 0s 6ms/step - loss: 0.6788 - accuracy: 0.2600 - val_loss: 0.6367 - val_accuracy: 0.4000\n",
            "Epoch 70/100\n",
            "20/20 [==============================] - 0s 7ms/step - loss: 0.6532 - accuracy: 0.3400 - val_loss: 0.6380 - val_accuracy: 0.4000\n",
            "Epoch 71/100\n",
            "20/20 [==============================] - 0s 6ms/step - loss: 0.6516 - accuracy: 0.2900 - val_loss: 0.6406 - val_accuracy: 0.4000\n",
            "Epoch 72/100\n",
            "20/20 [==============================] - 0s 6ms/step - loss: 0.6525 - accuracy: 0.3800 - val_loss: 0.6427 - val_accuracy: 0.4000\n",
            "Epoch 73/100\n",
            "20/20 [==============================] - 0s 7ms/step - loss: 0.6239 - accuracy: 0.4400 - val_loss: 0.6424 - val_accuracy: 0.4000\n",
            "Epoch 74/100\n",
            "20/20 [==============================] - 0s 7ms/step - loss: 0.6571 - accuracy: 0.3000 - val_loss: 0.6413 - val_accuracy: 0.4000\n",
            "Epoch 75/100\n",
            "20/20 [==============================] - 0s 6ms/step - loss: 0.6333 - accuracy: 0.3600 - val_loss: 0.6392 - val_accuracy: 0.4000\n",
            "Epoch 76/100\n",
            "20/20 [==============================] - 0s 7ms/step - loss: 0.6636 - accuracy: 0.2900 - val_loss: 0.6375 - val_accuracy: 0.4000\n",
            "Epoch 77/100\n",
            "20/20 [==============================] - 0s 6ms/step - loss: 0.6367 - accuracy: 0.4100 - val_loss: 0.6378 - val_accuracy: 0.4000\n",
            "Epoch 78/100\n",
            "20/20 [==============================] - 0s 6ms/step - loss: 0.6530 - accuracy: 0.3500 - val_loss: 0.6399 - val_accuracy: 0.4000\n",
            "Epoch 79/100\n",
            "20/20 [==============================] - 0s 6ms/step - loss: 0.6090 - accuracy: 0.4000 - val_loss: 0.6417 - val_accuracy: 0.4000\n",
            "Epoch 80/100\n",
            "20/20 [==============================] - 0s 6ms/step - loss: 0.6507 - accuracy: 0.3600 - val_loss: 0.6428 - val_accuracy: 0.4000\n",
            "Epoch 81/100\n",
            "20/20 [==============================] - 0s 7ms/step - loss: 0.6380 - accuracy: 0.3100 - val_loss: 0.6405 - val_accuracy: 0.4000\n",
            "Epoch 82/100\n",
            "20/20 [==============================] - 0s 6ms/step - loss: 0.6368 - accuracy: 0.3900 - val_loss: 0.6405 - val_accuracy: 0.4000\n",
            "Epoch 83/100\n",
            "20/20 [==============================] - 0s 7ms/step - loss: 0.6497 - accuracy: 0.4000 - val_loss: 0.6386 - val_accuracy: 0.4000\n",
            "Epoch 84/100\n",
            "20/20 [==============================] - 0s 6ms/step - loss: 0.6337 - accuracy: 0.3700 - val_loss: 0.6379 - val_accuracy: 0.4000\n",
            "Epoch 85/100\n",
            "20/20 [==============================] - 0s 7ms/step - loss: 0.6419 - accuracy: 0.2900 - val_loss: 0.6378 - val_accuracy: 0.4000\n",
            "Epoch 86/100\n",
            "20/20 [==============================] - 0s 6ms/step - loss: 0.6491 - accuracy: 0.3700 - val_loss: 0.6348 - val_accuracy: 0.4000\n",
            "Epoch 87/100\n",
            "20/20 [==============================] - 0s 6ms/step - loss: 0.6375 - accuracy: 0.3900 - val_loss: 0.6338 - val_accuracy: 0.4000\n",
            "Epoch 88/100\n",
            "20/20 [==============================] - 0s 7ms/step - loss: 0.6120 - accuracy: 0.3000 - val_loss: 0.6332 - val_accuracy: 0.4000\n",
            "Epoch 89/100\n",
            "20/20 [==============================] - 0s 6ms/step - loss: 0.6334 - accuracy: 0.3600 - val_loss: 0.6333 - val_accuracy: 0.4000\n",
            "Epoch 90/100\n",
            "20/20 [==============================] - 0s 6ms/step - loss: 0.6224 - accuracy: 0.4300 - val_loss: 0.6348 - val_accuracy: 0.4000\n",
            "Epoch 91/100\n",
            "20/20 [==============================] - 0s 6ms/step - loss: 0.6329 - accuracy: 0.3800 - val_loss: 0.6327 - val_accuracy: 0.4000\n",
            "Epoch 92/100\n",
            "20/20 [==============================] - 0s 6ms/step - loss: 0.6402 - accuracy: 0.3300 - val_loss: 0.6342 - val_accuracy: 0.4000\n",
            "Epoch 93/100\n",
            "20/20 [==============================] - 0s 7ms/step - loss: 0.6439 - accuracy: 0.3500 - val_loss: 0.6349 - val_accuracy: 0.4000\n",
            "Epoch 94/100\n",
            "20/20 [==============================] - 0s 12ms/step - loss: 0.6274 - accuracy: 0.3100 - val_loss: 0.6294 - val_accuracy: 0.4000\n",
            "Epoch 95/100\n",
            "20/20 [==============================] - 0s 6ms/step - loss: 0.6326 - accuracy: 0.3100 - val_loss: 0.6274 - val_accuracy: 0.4000\n",
            "Epoch 96/100\n",
            "20/20 [==============================] - 0s 6ms/step - loss: 0.6490 - accuracy: 0.3800 - val_loss: 0.6300 - val_accuracy: 0.4000\n",
            "Epoch 97/100\n",
            "20/20 [==============================] - 0s 6ms/step - loss: 0.6323 - accuracy: 0.3300 - val_loss: 0.6308 - val_accuracy: 0.4000\n",
            "Epoch 98/100\n",
            "20/20 [==============================] - 0s 6ms/step - loss: 0.6247 - accuracy: 0.3700 - val_loss: 0.6319 - val_accuracy: 0.4000\n",
            "Epoch 99/100\n",
            "20/20 [==============================] - 0s 6ms/step - loss: 0.6277 - accuracy: 0.3900 - val_loss: 0.6302 - val_accuracy: 0.4000\n",
            "Epoch 100/100\n",
            "20/20 [==============================] - 0s 6ms/step - loss: 0.6312 - accuracy: 0.3600 - val_loss: 0.6292 - val_accuracy: 0.4000\n"
          ],
          "name": "stdout"
        }
      ]
    },
    {
      "cell_type": "code",
      "metadata": {
        "id": "YWEDF8lQbFQp",
        "colab_type": "code",
        "outputId": "c722b807-3e5c-478f-818f-96e7cdd50cdb",
        "colab": {
          "base_uri": "https://localhost:8080/",
          "height": 573
        }
      },
      "source": [
        "#Plots showing results\n",
        "\n",
        "#Training and validation accuracy values \n",
        "epoch_range = range(1,101)\n",
        "plt.plot(epoch_range, history.history['accuracy'])\n",
        "plt.plot(epoch_range, history.history['val_accuracy'])\n",
        "plt.title('Model Accuracy')\n",
        "plt.ylabel('Accuracy')\n",
        "plt.xlabel('Epoch')\n",
        "plt.legend(['Train', 'Val'], loc = 'upper left')\n",
        "plt.show()\n",
        "\n",
        "#Training and validation loss values\n",
        "plt.plot(epoch_range, history.history['loss'])\n",
        "plt.plot(epoch_range, history.history['val_loss'])\n",
        "plt.title('Model Loss')\n",
        "plt.ylabel('Loss')\n",
        "plt.xlabel('Epoch')\n",
        "plt.legend(['Train', 'Val'], loc = 'upper left')\n",
        "plt.show()\n"
      ],
      "execution_count": 0,
      "outputs": [
        {
          "output_type": "display_data",
          "data": {
            "image/png": "[encoded data removed]",
            "text/plain": [
              "<Figure size 432x288 with 1 Axes>"
            ]
          },
          "metadata": {
            "tags": [],
            "needs_background": "light"
          }
        },
        {
          "output_type": "display_data",
          "data": {
            "image/png": "[encoded data removed]",
            "text/plain": [
              "<Figure size 432x288 with 1 Axes>"
            ]
          },
          "metadata": {
            "tags": [],
            "needs_background": "light"
          }
        }
      ]
    },
    {
      "cell_type": "markdown",
      "metadata": {
        "id": "DqIxMkl3cKLp",
        "colab_type": "text"
      },
      "source": [
        "# Conclusion\n",
        "\n",
        "Looking at the plots above, we can see that the model had less than 50% validataion accucracy. Therefore, there is no correlation between dietary restrictions and the length of the introduction and total word count.\n",
        "\n",
        "Validation Loss being lower than Training Loss for the majority of epochs, in the second plot, also says that the model is not overfitting and we can trust the results of the model. "
      ]
    }
  ]
}